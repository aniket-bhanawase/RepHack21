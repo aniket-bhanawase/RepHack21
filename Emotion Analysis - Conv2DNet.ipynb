{
 "cells": [
  {
   "cell_type": "code",
   "execution_count": null,
   "id": "mounted-alfred",
   "metadata": {},
   "outputs": [],
   "source": [
    "import tensorflow as tf\n",
    "from tensorflow.keras.models import Sequential\n",
    "from tensorflow.keras.layers import Dense, Dropout, Activation, Flatten, Conv2D, MaxPooling2D\n",
    "import pickle\n",
    "import numpy as np\n",
    "import time\n",
    "from tensorflow.keras.callbacks import TensorBoard\n",
    "from tensorflow.keras.optimizers import Adam\n",
    "\n",
    "IMAGE_SIZE = 48"
   ]
  },
  {
   "cell_type": "code",
   "execution_count": null,
   "id": "caroline-share",
   "metadata": {},
   "outputs": [],
   "source": [
    "X = pickle.load(open(\"X-{}.pickle\".format(IMAGE_SIZE), \"rb\"))\n",
    "y = np.array(pickle.load(open(\"y-{}.pickle\".format(IMAGE_SIZE), \"rb\")))\n",
    "X = X/255.0"
   ]
  },
  {
   "cell_type": "code",
   "execution_count": null,
   "id": "aggregate-definition",
   "metadata": {},
   "outputs": [],
   "source": [
    "X.shape"
   ]
  },
  {
   "cell_type": "code",
   "execution_count": null,
   "id": "enhanced-purpose",
   "metadata": {},
   "outputs": [],
   "source": [
    "dense_layers = [1]\n",
    "conv_layers =  [3]\n",
    "layer_sizes =  [128]\n",
    "\n",
    "for dense_layer in dense_layers:\n",
    "    for layer_size in layer_sizes:\n",
    "        for conv_layer in conv_layers:\n",
    "            NAME = \"emo-analysis-Adam-decay-lr-10-epoch-{}-conv-{}-nodes-{}-dense-{}.model\".format(conv_layer, layer_size, dense_layer, int(time.time()))\n",
    "            tensorboard = TensorBoard(log_dir='logs\\{}'.format(NAME))\n",
    "\n",
    "            model = Sequential() # 128x256 | pooling2x2 | 512 | pooling2x2 | 512 | polling2x2 | dense 1024 | dense 7\n",
    " \n",
    "            model.add(Conv2D(layer_size, kernel_size=(3, 3), activation='relu', input_shape=X.shape[1:]))\n",
    "            model.add(Conv2D(layer_size*2, kernel_size=(3, 3), activation='relu'))\n",
    "            model.add(MaxPooling2D(pool_size=(2, 2)))\n",
    "            model.add(Dropout(0.25))\n",
    "            \n",
    "            for l in range(conv_layer-1):\n",
    "                model.add(Conv2D(layer_size*4, (3, 3)))\n",
    "                model.add(Activation(\"relu\"))\n",
    "                model.add(MaxPooling2D(pool_size=(2, 2)))\n",
    "                model.add(Dropout(0.25))\n",
    "            \n",
    "            model.add(Flatten())\n",
    "            \n",
    "            for l in range(dense_layer):\n",
    "                model.add(Dense(layer_size*4, activation='relu'))\n",
    "                model.add(Dropout(0.5))  \n",
    "                \n",
    "            model.add(Dense(1024, activation='relu'))\n",
    "            model.add(Dropout(0.5))\n",
    "            model.add(Dense(7, activation='softmax'))\n",
    "\n",
    "            model.compile(loss=\"sparse_categorical_crossentropy\", # 7 categories to predict\n",
    "                                     optimizer=Adam(lr=0.0001, decay=1e-6),  \n",
    "                                     metrics=['accuracy'])\n",
    "\n",
    "            model.fit(X, y, batch_size=32, epochs=10, validation_split=0.1, callbacks=[tensorboard])\n",
    "\n",
    "            model.save(\"models/\"+NAME)"
   ]
  },
  {
   "cell_type": "markdown",
   "id": "creative-stranger",
   "metadata": {},
   "source": [
    "# model with dropout"
   ]
  },
  {
   "cell_type": "code",
   "execution_count": null,
   "id": "guilty-outreach",
   "metadata": {},
   "outputs": [],
   "source": [
    "from tensorflow.keras.optimizers import Adam\n",
    "\n",
    "NAME = \"emo-analysis-{}-conv-{}-nodes-{}-dense-{}.model\".format(\"Adam-decay-lr-github-4\", \"34-64-128-128\",\"1024-7\", int(time.time()))\n",
    "tensorboard = TensorBoard(log_dir='logs\\{}'.format(NAME))\n",
    "model = Sequential()\n",
    "\n",
    "model.add(Conv2D(32, kernel_size=(3, 3), activation='relu', input_shape=(48,48,1)))\n",
    "model.add(Conv2D(64, kernel_size=(3, 3), activation='relu'))\n",
    "model.add(MaxPooling2D(pool_size=(2, 2)))\n",
    "model.add(Dropout(0.25))\n",
    "\n",
    "model.add(Conv2D(128, kernel_size=(3, 3), activation='relu'))\n",
    "model.add(MaxPooling2D(pool_size=(2, 2)))\n",
    "model.add(Conv2D(128, kernel_size=(3, 3), activation='relu'))\n",
    "model.add(MaxPooling2D(pool_size=(2, 2)))\n",
    "model.add(Dropout(0.25))\n",
    "\n",
    "model.add(Flatten())\n",
    "model.add(Dense(1024, activation='relu'))\n",
    "model.add(Dropout(0.5))\n",
    "model.add(Dense(7, activation='softmax'))\n",
    "\n",
    "model.compile(loss=\"sparse_categorical_crossentropy\", # 7 categories to predict\n",
    "                         optimizer=Adam(lr=0.0001, decay=1e-6),  \n",
    "                         metrics=['accuracy'])\n",
    "\n",
    "model.fit(X, y, batch_size=64, epochs=50, validation_split=0.1, callbacks=[tensorboard])\n",
    "\n",
    "model.save(\"models/\"+NAME)"
   ]
  },
  {
   "cell_type": "code",
   "execution_count": null,
   "id": "focused-architecture",
   "metadata": {},
   "outputs": [],
   "source": [
    "for i in range(1):\n",
    "    print(i)"
   ]
  },
  {
   "cell_type": "code",
   "execution_count": null,
   "id": "ambient-pharmacy",
   "metadata": {},
   "outputs": [],
   "source": []
  }
 ],
 "metadata": {
  "kernelspec": {
   "display_name": "GPUEnvTF24PY38",
   "language": "python",
   "name": "gpuenvtf24py38"
  },
  "language_info": {
   "codemirror_mode": {
    "name": "ipython",
    "version": 3
   },
   "file_extension": ".py",
   "mimetype": "text/x-python",
   "name": "python",
   "nbconvert_exporter": "python",
   "pygments_lexer": "ipython3",
   "version": "3.8.5"
  }
 },
 "nbformat": 4,
 "nbformat_minor": 5
}
